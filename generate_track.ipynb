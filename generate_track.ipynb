{
 "cells": [
  {
   "cell_type": "markdown",
   "id": "c1cba654",
   "metadata": {},
   "source": [
    "# Part of the code to generate the 'truth' track for charged particle tracking\n",
    "This part of the repo generates continuum of (x,y,z) or (r, theta, phi) coordinates of particle, aka track, for a charged particle passing through inner detector"
   ]
  },
  {
   "cell_type": "code",
   "execution_count": null,
   "id": "1d0cfe89",
   "metadata": {},
   "outputs": [],
   "source": [
    "import numpy as np"
   ]
  },
  {
   "cell_type": "code",
   "execution_count": null,
   "id": "319b8531",
   "metadata": {},
   "outputs": [],
   "source": [
    "def evolve_track(x0: float, y0: float, z0: float, ):\n",
    "    \"\"\"\n",
    "    Function to generate (x,y,z) - Cartesian or (r, θ, ɸ) - Cylindrical\n",
    "    coordinates of a track.\n",
    "    \n",
    "    Parameters\n",
    "    -------------\n",
    "    x0: float\n",
    "        X coordinate of particle close to beam center\n",
    "    y0: float\n",
    "        Y coordinate of particle close to beam center\n",
    "    z0: float\n",
    "        Z coordinate of particle close to beam center(ideally 0)\n",
    "    \n",
    "    Returns\n",
    "    ------------\n",
    "    np.ndarray\n",
    "        3 x N numpy array. Where N is the granularity requested.\n",
    "        The rows represent the dof. Could be cartesian or cylindrical.\n",
    "    \n",
    "    \"\"\"\n",
    "    \n",
    "    # equation of motion in helix - circle in XY and linear in Z\n",
    "    pixel_layers = (33.25, 50.5, 88.5, 122.5) # in millimeter\n",
    "    \n",
    "    B = 2 # Tesla\n",
    "    initial_position = (2, 3, 4) # (x, y, z) # mm\n",
    "    momentum = (5, 3, 7) # px, py, pz GeV\n",
    "    px, py, pz = momentum\n",
    "    x0, y0, z0 = initial_position\n",
    "   \n",
    "    q = -1 # 1 : positive(positron) / -1 : negative(electron)\n",
    "    pT = np.hypot(momentum[0], momentum[1])\n",
    "    p_mag = np.linalg.norm(x=momentum)\n",
    "    pZ = momentum[2]\n",
    "    radius_curvature = pT / (q * B)\n",
    "    \n",
    "    # Now obtain Perigee representation\n",
    "    theta_p = np.arccos(pZ/pT) # rad\n",
    "    phi_p = np.arctan2(py, px) # rad\n",
    "    signed_curvature = q/ pT\n",
    "    \n",
    "    # center of circular motion in XY plane\n",
    "    x_c = x0 + py/ (q * B)\n",
    "    y_c = y0 - px/ (q * B)\n",
    "    D = np.hypot(x_c, y_c)\n",
    "    d_0 = D - (np.absolute(radius_curvature))\n",
    "    z_0 = z0 - (pz / pT) * d_0    \n",
    "    \n",
    "    return"
   ]
  },
  {
   "cell_type": "code",
   "execution_count": null,
   "id": "2c17b5ad",
   "metadata": {},
   "outputs": [],
   "source": [
    "def perigee_representation(x, y, z, px, py, pz, q):\n",
    "    \"\"\"\n",
    "    Takes in cartesian coordinates and gives Perigee coordinates\n",
    "    \"\"\"\n",
    "    B = 2 # Tesla\n",
    "    import numpy as np\n",
    "    momentum_trans = np.hypot(px, py)\n",
    "    momentum_mag = np.linalg.norm(x=[px, py, pz])\n",
    "    \n",
    "    theta_polar = np.arccos(pz/ momentum_mag)\n",
    "    azimuth_angle = np.arctan2(py, px)\n",
    "    signed_curvature = q / momentum_trans\n",
    "    radius_curvature = momentum_trans / (q * B)\n",
    "    \n",
    "    x_c = x + py / (q * B)\n",
    "    y_c = y - px / (q * B)\n",
    "    \n",
    "    D = np.hypot(x_c, y_c)\n",
    "    d0 = D - (np.absolute(radius_curvature))\n",
    "    z0 = z - (pz / momentum_trans) * d0\n",
    "    \n",
    "    return d0, z0, azimuth_angle, theta_polar, signed_curvature"
   ]
  },
  {
   "cell_type": "code",
   "execution_count": null,
   "id": "e46e0428",
   "metadata": {},
   "outputs": [
    {
     "data": {
      "text/plain": [
       "(np.float64(2.60720456117098),\n",
       " np.float64(0.8700767460745693),\n",
       " np.float64(0.5404195002705842),\n",
       " np.float64(0.694537465585555),\n",
       " np.float64(-0.17149858514250882))"
      ]
     },
     "execution_count": 4,
     "metadata": {},
     "output_type": "execute_result"
    }
   ],
   "source": [
    "outs = []\n",
    "ins = []\n",
    "perigee_representation(2, 3, 4, 5, 3, 7, -1)"
   ]
  },
  {
   "cell_type": "code",
   "execution_count": null,
   "id": "92c28cb1",
   "metadata": {},
   "outputs": [],
   "source": [
    "def evolve_track():\n",
    "    \"\"\"\n",
    "    Given initial position and momentum, it evolves the particle's track in Pixel detector\n",
    "    \"\"\"\n",
    "    \n",
    "    return"
   ]
  }
 ],
 "metadata": {
  "kernelspec": {
   "display_name": "base",
   "language": "python",
   "name": "python3"
  },
  "language_info": {
   "codemirror_mode": {
    "name": "ipython",
    "version": 3
   },
   "file_extension": ".py",
   "mimetype": "text/x-python",
   "name": "python",
   "nbconvert_exporter": "python",
   "pygments_lexer": "ipython3",
   "version": "3.12.2"
  }
 },
 "nbformat": 4,
 "nbformat_minor": 5
}
